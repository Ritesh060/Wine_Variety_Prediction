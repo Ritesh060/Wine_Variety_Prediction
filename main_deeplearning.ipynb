{
  "cells": [
    {
      "cell_type": "code",
      "execution_count": 12,
      "metadata": {
        "colab": {
          "base_uri": "https://localhost:8080/"
        },
        "id": "9LDLdt1mXBgd",
        "outputId": "4a541e52-43f5-4c3f-d7df-57b34326addf"
      },
      "outputs": [
        {
          "name": "stdout",
          "output_type": "stream",
          "text": [
            "Epoch 1/10\n",
            "2584/2584 [==============================] - 1984s 763ms/step - loss: 0.4899 - accuracy: 0.8661 - val_loss: 0.1310 - val_accuracy: 0.9563\n",
            "Epoch 2/10\n",
            "2584/2584 [==============================] - 1975s 764ms/step - loss: 0.0748 - accuracy: 0.9775 - val_loss: 0.0899 - val_accuracy: 0.9716\n",
            "Epoch 3/10\n",
            "2584/2584 [==============================] - 1984s 768ms/step - loss: 0.0434 - accuracy: 0.9859 - val_loss: 0.0869 - val_accuracy: 0.9743\n",
            "Epoch 4/10\n",
            "2584/2584 [==============================] - 1982s 767ms/step - loss: 0.0287 - accuracy: 0.9912 - val_loss: 0.1077 - val_accuracy: 0.9705\n",
            "Epoch 5/10\n",
            "2584/2584 [==============================] - 1936s 749ms/step - loss: 0.0200 - accuracy: 0.9935 - val_loss: 0.0995 - val_accuracy: 0.9754\n",
            "Epoch 6/10\n",
            "2584/2584 [==============================] - 1958s 758ms/step - loss: 0.0149 - accuracy: 0.9954 - val_loss: 0.1158 - val_accuracy: 0.9754\n",
            "Epoch 7/10\n",
            "2584/2584 [==============================] - 1940s 751ms/step - loss: 0.0112 - accuracy: 0.9963 - val_loss: 0.1447 - val_accuracy: 0.9720\n",
            "Epoch 8/10\n",
            "2584/2584 [==============================] - 1931s 747ms/step - loss: 0.0085 - accuracy: 0.9973 - val_loss: 0.1474 - val_accuracy: 0.9737\n",
            "Epoch 9/10\n",
            "2584/2584 [==============================] - 1950s 755ms/step - loss: 0.0070 - accuracy: 0.9977 - val_loss: 0.1406 - val_accuracy: 0.9753\n",
            "Epoch 10/10\n",
            "2584/2584 [==============================] - 1956s 757ms/step - loss: 0.0066 - accuracy: 0.9981 - val_loss: 0.1616 - val_accuracy: 0.9736\n"
          ]
        }
      ],
      "source": [
        "import numpy as np\n",
        "import pandas as pd\n",
        "from keras.models import Sequential\n",
        "from keras.layers import Embedding, Conv1D, LSTM, Dense, Dropout, Concatenate, Input, Reshape \n",
        "from keras.preprocessing.text import Tokenizer\n",
        "from keras_preprocessing.sequence import pad_sequences\n",
        "from keras.utils import to_categorical\n",
        "from sklearn.preprocessing import LabelEncoder\n",
        "from keras.models import Model\n",
        "\n",
        "data = pd.read_csv('OSX_DS_assignment.csv')\n",
        "X_title = data['review_title']\n",
        "X_desc = data['review_description']\n",
        "X_winery = data['winery']\n",
        "X_points = data['points']\n",
        "\n",
        "label_encoder = LabelEncoder()\n",
        "y = label_encoder.fit_transform(data['variety'])\n",
        "num_classes = len(label_encoder.classes_)\n",
        "y = to_categorical(y, num_classes=num_classes)\n",
        "\n",
        "tokenizer = Tokenizer()\n",
        "tokenizer.fit_on_texts(np.concatenate((X_title, X_desc, X_winery)))\n",
        "\n",
        "X_title = tokenizer.texts_to_sequences(X_title)\n",
        "X_desc = tokenizer.texts_to_sequences(X_desc)\n",
        "X_winery = tokenizer.texts_to_sequences(X_winery)\n",
        "\n",
        "max_len = 100\n",
        "X_title = pad_sequences(X_title, maxlen=max_len)\n",
        "X_desc = pad_sequences(X_desc, maxlen=max_len)\n",
        "X_winery = pad_sequences(X_winery, maxlen=max_len)\n",
        "\n",
        "max_title_len = 1\n",
        "max_desc_len = 1\n",
        "title_input = Input(shape=(max_title_len,), dtype='int32')\n",
        "desc_input = Input(shape=(max_desc_len,), dtype='int32')\n",
        "winery_input = Input(shape=(1,), dtype='int32')\n",
        "points_input = Input(shape=(1,), dtype='float32')\n",
        "\n",
        "title_embed = Embedding(input_dim=len(tokenizer.word_index)+1, output_dim=128, input_length=max_title_len)(title_input)\n",
        "desc_embed = Embedding(input_dim=len(tokenizer.word_index)+1, output_dim=128, input_length=max_desc_len)(desc_input)\n",
        "winery_embed = Embedding(input_dim=len(tokenizer.word_index)+1, output_dim=16, input_length=1)(winery_input)\n",
        "\n",
        "title_lstm = LSTM(64, dropout=0.2, recurrent_dropout=0.2)(title_embed)\n",
        "desc_lstm = LSTM(64, dropout=0.2, recurrent_dropout=0.2)(desc_embed)\n",
        "winery_lstm = LSTM(64, dropout=0.2, recurrent_dropout=0.2)(winery_embed)\n",
        "\n",
        "merged = Concatenate()([title_lstm, desc_lstm, winery_lstm, points_input])\n",
        "merged = Dense(64, activation='relu')(merged)\n",
        "merged = Dense(32, activation='relu')(merged)\n",
        "\n",
        "output = Dense(num_classes, activation='softmax')(merged)\n",
        "\n",
        "model = Model(inputs=[title_input, desc_input, winery_input, points_input], outputs=output)\n",
        "model.compile(loss='categorical_crossentropy', optimizer='adam', metrics=['accuracy'])\n",
        "\n",
        "model.fit([X_title, X_desc, X_winery, X_points], y, validation_split=0.2, epochs=10, batch_size=32)\n"
      ]
    },
    {
      "cell_type": "code",
      "execution_count": 13,
      "metadata": {
        "colab": {
          "base_uri": "https://localhost:8080/"
        },
        "id": "7y-wuBsE9TmG",
        "outputId": "143f8158-6963-423d-84a9-8c634f506552"
      },
      "outputs": [
        {
          "name": "stdout",
          "output_type": "stream",
          "text": [
            "1/1 [==============================] - 2s 2s/step\n",
            "Predicted variety: White Blend\n"
          ]
        }
      ],
      "source": [
        "new_title = 'Nicosia 2013 VulkÃ  Bianco  (Etna)'\n",
        "new_desc = \"Aromas include tropical fruit, broom, brimstone and dried herb. The palate isn't overly expressive, offering unripened apple, citrus and dried sage alongside brisk acidity.\"\n",
        "new_winery = 'Nicosia'\n",
        "new_points = 87\n",
        "\n",
        "new_title_seq = tokenizer.texts_to_sequences([new_title])\n",
        "new_desc_seq = tokenizer.texts_to_sequences([new_desc])\n",
        "new_winery_seq = tokenizer.texts_to_sequences([new_winery])\n",
        "\n",
        "new_title_padded = pad_sequences(new_title_seq, maxlen=max_len)\n",
        "new_desc_padded = pad_sequences(new_desc_seq, maxlen=max_len)\n",
        "new_winery_padded = pad_sequences(new_winery_seq, maxlen=1)\n",
        "\n",
        "prediction = model.predict([new_title_padded, new_desc_padded, new_winery_padded, np.array([[new_points]])])\n",
        "\n",
        "predicted_class = label_encoder.inverse_transform([np.argmax(prediction)])\n",
        "print('Predicted variety:', predicted_class[0])"
      ]
    },
    {
      "cell_type": "code",
      "execution_count": 15,
      "metadata": {
        "colab": {
          "base_uri": "https://localhost:8080/"
        },
        "id": "ILE29gHnQQBF",
        "outputId": "b61c9a9b-2451-4559-b7d9-2876550abb83"
      },
      "outputs": [
        {
          "name": "stdout",
          "output_type": "stream",
          "text": [
            "3229/3229 [==============================] - 239s 74ms/step - loss: 0.0340 - accuracy: 0.9942\n",
            "99.41542148590088\n"
          ]
        }
      ],
      "source": [
        "loss, accuracy = model.evaluate([X_title, X_desc, X_winery, X_points], y)\n",
        "print(accuracy*100)"
      ]
    },
    {
      "cell_type": "code",
      "execution_count": 16,
      "metadata": {
        "id": "XGT2qnw0SHK0"
      },
      "outputs": [],
      "source": [
        "model.save('Wine_Variety.h5')"
      ]
    }
  ],
  "metadata": {
    "colab": {
      "provenance": []
    },
    "kernelspec": {
      "display_name": "Python 3",
      "name": "python3"
    },
    "language_info": {
      "name": "python",
      "version": "3.9.7"
    }
  },
  "nbformat": 4,
  "nbformat_minor": 0
}
